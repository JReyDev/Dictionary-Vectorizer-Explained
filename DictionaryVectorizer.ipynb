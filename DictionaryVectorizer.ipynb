{
 "cells": [
  {
   "cell_type": "code",
   "execution_count": 26,
   "metadata": {},
   "outputs": [],
   "source": [
    "import numpy as np\n",
    "\n",
    "class SampleDictVectorizer:\n",
    "    def __init__(self):\n",
    "        self.feature_indices_ = {} \n",
    "        # Dictionary: for assigning features an index value which will be used as the index for our columns\n",
    "\n",
    "        self.num_features_ = 0 \n",
    "        # Our index values for our features will start at 0, also serves as the number of features\n",
    "\n",
    "\n",
    "    def fit(self, data):\n",
    "\n",
    "        for dictionary in data: \n",
    "        # Start by looping through our list of dictionaries\n",
    "\n",
    "            for feature in dictionary.keys(): \n",
    "            # With the first dictionary, loop through the keys using the feature variable\n",
    "\n",
    "                if feature not in self.feature_indices_: \n",
    "                # Taking the first key (feature), check if the key exists in our feature_indeces_ dictionary, if not then:\n",
    "\n",
    "\n",
    "                    self.feature_indices_[feature] = self.num_features_ \n",
    "                    # Create an entry using the feature as the key and our num_features_ as its value\n",
    "\n",
    "\n",
    "                    self.num_features_ += 1 \n",
    "                    # For every loop add 1 to our num_features\n",
    "\n",
    "\n",
    "    def transform(self, data):\n",
    "\n",
    "        num_samples = len(data) \n",
    "        # Find the length of our list, this serves as the amount of rows\n",
    "\n",
    "        X_sparse = np.zeros((num_samples, self.num_features_))\n",
    "        # Create a 3x3 sparse matrix using numpys zeros function, with 3 rows (num_samples), and 3 columns (num_features_)\n",
    "\n",
    "        for index, dictionary in enumerate(data):\n",
    "        # Loop through our dictionary list taking the index and dictionary using the enumerate function\n",
    "\n",
    "            for feature in dictionary.keys():\n",
    "            # With the first dictionary, loop through the keys using the feature variable\n",
    "\n",
    "                if feature in self.feature_indices_:\n",
    "                #Verify that the feature exists in our feature_indices_ dictionary, then:\n",
    "\n",
    "                    feature_index = self.feature_indices_[feature]\n",
    "                    # Make feature_index equal to the features dictionary value \n",
    "\n",
    "                    X_sparse[index, feature_index] = 1\n",
    "                    # Go to the row (index) and the column index (feature_index) and changed that value to 1\n",
    "\n",
    "\n",
    "\n",
    "        return X_sparse\n",
    "        #return sparse matrix"
   ]
  },
  {
   "cell_type": "code",
   "execution_count": 33,
   "metadata": {},
   "outputs": [],
   "source": [
    "\n",
    "# Sample dictionary list\n",
    "data = [\n",
    "    {'color': 'orange', 'size': 'small'},\n",
    "    {'color': 'white', 'model': 'v1.01'},\n",
    "    {'color': 'green', 'year': '2023'}\n",
    "]\n"
   ]
  },
  {
   "cell_type": "code",
   "execution_count": 34,
   "metadata": {},
   "outputs": [
    {
     "name": "stdout",
     "output_type": "stream",
     "text": [
      "[[1. 1. 0. 0.]\n",
      " [1. 0. 1. 0.]\n",
      " [1. 0. 0. 1.]]\n"
     ]
    }
   ],
   "source": [
    "\n",
    "# Create an instance of SampleDictVectorizer\n",
    "vectorizer = SampleDictVectorizer()\n",
    "\n",
    "# Fit the data\n",
    "vectorizer.fit(data)\n",
    "\n",
    "# Transform the data\n",
    "X_sparse = vectorizer.transform(data)\n",
    "\n",
    "# Print the matrix\n",
    "print(X_sparse)"
   ]
  }
 ],
 "metadata": {
  "kernelspec": {
   "display_name": "Python 3",
   "language": "python",
   "name": "python3"
  },
  "language_info": {
   "codemirror_mode": {
    "name": "ipython",
    "version": 3
   },
   "file_extension": ".py",
   "mimetype": "text/x-python",
   "name": "python",
   "nbconvert_exporter": "python",
   "pygments_lexer": "ipython3",
   "version": "3.11.0"
  },
  "orig_nbformat": 4
 },
 "nbformat": 4,
 "nbformat_minor": 2
}
